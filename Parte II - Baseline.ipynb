{
 "cells": [
  {
   "cell_type": "markdown",
   "id": "b2e16d25-2fc6-454a-b0d6-e2e53496e347",
   "metadata": {},
   "source": [
    "Materia: Ciencia de Datos\\\n",
    "Alumno: Francisco López Tancredi\\\n",
    "Padrón: 110464\\\n",
    "Fecha de Entrega: 19-06-2025"
   ]
  },
  {
   "cell_type": "markdown",
   "id": "1b942655-597c-40d7-a7ce-aa6968229326",
   "metadata": {},
   "source": [
    "# **Parte 2:** Machine Learning Baseline"
   ]
  },
  {
   "cell_type": "markdown",
   "id": "1a4d97ab-755c-42d0-8b77-227ece0e7a83",
   "metadata": {},
   "source": [
    "El objetivo de esta sección es construir un modelo sencillo de Machine Learning, usando todas las columnas del dataset para entrenar una **regresión logística**, incluyendo:\n",
    "- Encoding de variables categóricas.\n",
    "- Búsqueda de hiperparámetros.\n",
    "- Reproducibilidad de resultados garantizada."
   ]
  },
  {
   "cell_type": "markdown",
   "id": "dfc8923d-c99f-4f7f-8bbe-80fdaf89e784",
   "metadata": {},
   "source": [
    "Primero se importan todas las **librerías** necesarias para el análisis y se carga el archivo `heart_train.csv` en un **DataFrame**."
   ]
  },
  {
   "cell_type": "code",
   "execution_count": 1,
   "id": "c802ebb8-2b46-4587-81b2-9d371095521a",
   "metadata": {},
   "outputs": [],
   "source": [
    "import pandas as pd\n",
    "import numpy as np\n",
    "import matplotlib.pyplot as plt\n",
    "from sklearn.linear_model import LogisticRegression\n",
    "from sklearn.model_selection import train_test_split, StratifiedKFold, RandomizedSearchCV\n",
    "from sklearn.preprocessing import StandardScaler\n",
    "from sklearn.metrics import accuracy_score, roc_auc_score, precision_score, confusion_matrix, recall_score, ConfusionMatrixDisplay, RocCurveDisplay\n",
    "from scipy.stats import loguniform"
   ]
  },
  {
   "cell_type": "code",
   "execution_count": 2,
   "id": "9c86e32f-db4f-47e0-8556-eca29fcc32d8",
   "metadata": {},
   "outputs": [],
   "source": [
    "df = pd.read_csv('heart_train.csv')"
   ]
  },
  {
   "cell_type": "markdown",
   "id": "a061282f-7477-468c-b440-1913cbd06375",
   "metadata": {},
   "source": [
    "En el análisis exploratorio se observó que algunos valores del atributo `Cholesterol` son 0. Esto es algo que no tiene sentido, y representan `NaN`. Por lo tanto, deben ser reemplazados con algún valor. Primero se consideró la media, pero ésta está influida por valores extremos. En cambio, se decide pisar el 0 con la mediana, ya que indica el punto medio."
   ]
  },
  {
   "cell_type": "code",
   "execution_count": 3,
   "id": "c9b3a3ce-48c3-4671-a881-1d942aa3046b",
   "metadata": {},
   "outputs": [],
   "source": [
    "chol_median = df.loc[df['Cholesterol'] != 0, 'Cholesterol'].median()\n",
    "df.loc[df['Cholesterol'] == 0, 'Cholesterol'] = chol_median"
   ]
  },
  {
   "cell_type": "markdown",
   "id": "ab89ef4e-7a20-41ba-b718-97f6d34c6acc",
   "metadata": {},
   "source": [
    "Una vez hecho esto, se divide el DataFrame en:\n",
    "- `X`: la **variable predictora**.\n",
    "- `y`: la **variable objetivo** (`HeartDisease`).\n",
    "\n",
    "Y luego se subdividirán nuevamente con la función `test_train_split` en: `X_train`, `X_test`, `y_train`, `y_test`; donde las variables train se usarán para **entrenar** el modelo, y las otras para **testearlo**.\n",
    "\n",
    "Además se distinguen las columnas del DataFrame categóricas y aquellas numéricas, para luego procesarlas de la siguiente manera:\n",
    "- Para las columnas categóricas, se **encodearán** usando One-Hot Encoding. Se elige este encoder debido al bajo número de valores distintos que puede tener un atributo. De las 6 variables categóricas: 3 son binarias, 2 tienen tres valores distintos, y 1 tiene hasta 4 valores.\n",
    "- Para las columnas numéricas, se **escalarán** para que todas queden con media cero y desvío estándar uno. "
   ]
  },
  {
   "cell_type": "code",
   "execution_count": 4,
   "id": "546f894a-e258-4fbd-8c91-05121218e56f",
   "metadata": {},
   "outputs": [],
   "source": [
    "X = df.drop('HeartDisease', axis=1)\n",
    "y = df['HeartDisease']"
   ]
  },
  {
   "cell_type": "code",
   "execution_count": 5,
   "id": "4f4b60bf-7801-4111-b7ca-4a12e26dfdec",
   "metadata": {},
   "outputs": [],
   "source": [
    "categorical = ['Sex', 'ChestPainType', 'FastingBS', 'RestingECG', 'ExerciseAngina', 'ST_Slope']\n",
    "numerical = [col for col in X.columns if col not in categorical]"
   ]
  },
  {
   "cell_type": "code",
   "execution_count": 6,
   "id": "a066eed8-4b10-41a6-85ac-6f4523c45a58",
   "metadata": {},
   "outputs": [],
   "source": [
    "X = pd.get_dummies(X, columns=categorical, drop_first=True)"
   ]
  },
  {
   "cell_type": "code",
   "execution_count": 7,
   "id": "21bc8a78-3170-4601-9e44-fa83385396fb",
   "metadata": {},
   "outputs": [],
   "source": [
    "X_train, X_test, y_train, y_test = train_test_split(X, y, test_size=0.2, random_state=1, stratify=y)"
   ]
  },
  {
   "cell_type": "code",
   "execution_count": 8,
   "id": "cc8586e4-c0c2-4908-a52c-553fd11f63bf",
   "metadata": {},
   "outputs": [],
   "source": [
    "scaler = StandardScaler()\n",
    "X_train[numerical] = scaler.fit_transform(X_train[numerical])\n",
    "X_test[numerical] = scaler.transform(X_test[numerical])"
   ]
  },
  {
   "cell_type": "markdown",
   "id": "6654a812-0a66-41bf-bdc8-6c12a116585d",
   "metadata": {},
   "source": [
    "A continuación se definirán los **hiperparámetros** a buscar con `RandomSearchCV`. Se usará también validación cruzada (**cross-validation**) de 5 folds."
   ]
  },
  {
   "cell_type": "code",
   "execution_count": 9,
   "id": "4ba2661c-cca1-424c-ac12-f6dd67c5033e",
   "metadata": {},
   "outputs": [],
   "source": [
    "param_dist = {\n",
    "    'C': loguniform(1e-2, 1e1),\n",
    "    'penalty': ['l1', 'l2'],\n",
    "    'solver': ['liblinear'],\n",
    "}\n",
    "\n",
    "cv = StratifiedKFold(n_splits=5, shuffle=True, random_state=1)\n",
    "search = RandomizedSearchCV(\n",
    "    estimator = LogisticRegression(max_iter=1000, random_state=42),\n",
    "    param_distributions = param_dist,\n",
    "    n_iter = 20,\n",
    "    scoring = 'accuracy',\n",
    "    n_jobs = -1,\n",
    "    cv = cv,\n",
    "    random_state=42,\n",
    ")"
   ]
  },
  {
   "cell_type": "markdown",
   "id": "6c5c91a9-9423-41af-97e9-5e6f622f89d3",
   "metadata": {},
   "source": [
    "Finalmente, se ajusta la búsqueda al conjunto de entrenamiento y se imprimen los resultados principales."
   ]
  },
  {
   "cell_type": "code",
   "execution_count": 18,
   "id": "2cafc58f-b7db-41cf-ba48-ada2ce5086f5",
   "metadata": {},
   "outputs": [
    {
     "name": "stdout",
     "output_type": "stream",
     "text": [
      "Puntuación media de validación cruzada del mejor estimador: 0.8450\n",
      "Mejores hiperparámetros: \n",
      "  {'C': np.float64(0.13292918943162169), 'penalty': 'l1', 'solver': 'liblinear'}\n"
     ]
    }
   ],
   "source": [
    "search.fit(X_train, y_train)\n",
    "\n",
    "print(f\"Puntuación media de validación cruzada del mejor estimador: {search.best_score_:.4f}\")\n",
    "print(f\"Mejores hiperparámetros: \\n  {search.best_params_}\")"
   ]
  },
  {
   "cell_type": "markdown",
   "id": "bccc6ee1-c91b-46ac-a6b9-5f1867144d27",
   "metadata": {},
   "source": [
    "Habiendo encontrado entonces el mejor modelo, se procede a evaluarlo con las métricas: accuracy, ROC-AUC, precision y recall."
   ]
  },
  {
   "cell_type": "code",
   "execution_count": 20,
   "id": "94175efa-dba5-4c9c-951c-10401a6b632d",
   "metadata": {},
   "outputs": [],
   "source": [
    "best_model = search.best_estimator_\n",
    "y_pred = best_model.predict(X_test)\n",
    "y_prob = best_model.predict_proba(X_test)[:, 1]"
   ]
  },
  {
   "cell_type": "code",
   "execution_count": 21,
   "id": "503f577b-eec9-4784-83e9-012e1f161984",
   "metadata": {},
   "outputs": [
    {
     "name": "stdout",
     "output_type": "stream",
     "text": [
      "Accuracy score: 0.9252\n",
      "ROC-AUC score: 0.9620\n",
      "Precision '0': 0.9231\n",
      "Precision '1': 0.9268\n",
      "Recall '0': 0.9091\n",
      "Recall '1': 0.9383\n"
     ]
    }
   ],
   "source": [
    "acc = accuracy_score(y_test, y_pred)\n",
    "auc = roc_auc_score(y_test, y_prob)\n",
    "precision_0 = precision_score(y_test, y_pred, pos_label=0)\n",
    "precision_1 = precision_score(y_test, y_pred, pos_label=1)\n",
    "recall_0 = recall_score(y_test, y_pred, pos_label=0)\n",
    "recall_1 = recall_score(y_test, y_pred, pos_label=1)\n",
    "\n",
    "print(f\"Accuracy score: {acc:.4f}\")\n",
    "print(f\"ROC-AUC score: {auc:.4f}\")\n",
    "print(f\"Precision '0': {precision_0:.4f}\")\n",
    "print(f\"Precision '1': {precision_1:.4f}\")\n",
    "print(f\"Recall '0': {recall_0:.4f}\")\n",
    "print(f\"Recall '1': {recall_1:.4f}\")"
   ]
  },
  {
   "cell_type": "markdown",
   "id": "faf93aa8-38bd-440d-a985-8f5c08dde9ee",
   "metadata": {},
   "source": [
    "A su vez, se muestra la matriz de confusión, que muestra:\n",
    "- La cantidad de pacientes que fueron clasificados correctamente como \"No Enfermo\" (60).\n",
    "- La cantidad de pacientes que fueron clasificados correctamente como \"Enfermo\" (76).\n",
    "- La cantidad de pacientes que fueron clasificados incorrectamente como \"No Enfermo\" (5).\n",
    "- La cantidad de pacientes que fueron clasificados incorrectamente como \"Enfermo\" (6)."
   ]
  },
  {
   "cell_type": "code",
   "execution_count": 39,
   "id": "10e51a82-dbc1-40ad-8aa6-2a1e63afce21",
   "metadata": {},
   "outputs": [
    {
     "data": {
      "image/png": "[encoded data removed]",
      "text/plain": [
       "<Figure size 640x480 with 2 Axes>"
      ]
     },
     "metadata": {},
     "output_type": "display_data"
    }
   ],
   "source": [
    "ConfusionMatrixDisplay.from_estimator(best_model, X_test, y_test, display_labels=['No Enfermo','Enfermo'], cmap='Blues')\n",
    "plt.title('Matriz de Confusión')\n",
    "plt.xlabel('Valores predichos')\n",
    "plt.ylabel('Valores reales')\n",
    "plt.xticks([0, 1], ['No Enfermo (0)', 'Enfermo (1)'])\n",
    "plt.yticks([0, 1], ['No Enfermo (0)', 'Enfermo (1)'])\n",
    "plt.show()"
   ]
  },
  {
   "cell_type": "markdown",
   "id": "79bd4ed2-89e5-449f-8262-a6412129ce8a",
   "metadata": {},
   "source": [
    "Y también el gráfico de la **curva ROC**, que muestra:\n",
    "- En el eje $x$, la tasa de falsos positivos\n",
    "- En el eje $y$, la tasa de verdaderos positivos."
   ]
  },
  {
   "cell_type": "code",
   "execution_count": 40,
   "id": "bc7cebf6-1335-413a-900d-c990fd1d38c4",
   "metadata": {},
   "outputs": [
    {
     "data": {
      "image/png": "[encoded data removed]",
      "text/plain": [
       "<Figure size 640x480 with 1 Axes>"
      ]
     },
     "metadata": {},
     "output_type": "display_data"
    }
   ],
   "source": [
    "RocCurveDisplay.from_estimator(best_model, X_test, y_test)\n",
    "plt.title('Curva ROC')\n",
    "plt.xlabel('Tasa de Falsos Positivos')\n",
    "plt.ylabel('Tasa de Verdaderos Positivos')\n",
    "plt.show()"
   ]
  },
  {
   "cell_type": "markdown",
   "id": "e1712a84-dcd3-42de-8263-e8a5f3efe46c",
   "metadata": {},
   "source": [
    "Finalmente, usando el modelo encontrado se muestra la **importancia de los features**. Para esto, se obtiene cada feature con su coeficiente y se arma un DataFrame para mostrar los valores ordenados."
   ]
  },
  {
   "cell_type": "code",
   "execution_count": 33,
   "id": "3871bf75-4681-4d89-83f5-555e1483f15a",
   "metadata": {},
   "outputs": [
    {
     "data": {
      "text/html": [
       "<div>\n",
       "<style scoped>\n",
       "    .dataframe tbody tr th:only-of-type {\n",
       "        vertical-align: middle;\n",
       "    }\n",
       "\n",
       "    .dataframe tbody tr th {\n",
       "        vertical-align: top;\n",
       "    }\n",
       "\n",
       "    .dataframe thead th {\n",
       "        text-align: right;\n",
       "    }\n",
       "</style>\n",
       "<table border=\"1\" class=\"dataframe\">\n",
       "  <thead>\n",
       "    <tr style=\"text-align: right;\">\n",
       "      <th></th>\n",
       "      <th>feature</th>\n",
       "      <th>coef</th>\n",
       "    </tr>\n",
       "  </thead>\n",
       "  <tbody>\n",
       "    <tr>\n",
       "      <th>14</th>\n",
       "      <td>ST_Slope_Up</td>\n",
       "      <td>-1.378219</td>\n",
       "    </tr>\n",
       "    <tr>\n",
       "      <th>7</th>\n",
       "      <td>ChestPainType_NAP</td>\n",
       "      <td>-0.785669</td>\n",
       "    </tr>\n",
       "    <tr>\n",
       "      <th>6</th>\n",
       "      <td>ChestPainType_ATA</td>\n",
       "      <td>-0.780950</td>\n",
       "    </tr>\n",
       "    <tr>\n",
       "      <th>5</th>\n",
       "      <td>Sex_M</td>\n",
       "      <td>0.764544</td>\n",
       "    </tr>\n",
       "    <tr>\n",
       "      <th>12</th>\n",
       "      <td>ExerciseAngina_Y</td>\n",
       "      <td>0.754404</td>\n",
       "    </tr>\n",
       "    <tr>\n",
       "      <th>9</th>\n",
       "      <td>FastingBS_1</td>\n",
       "      <td>0.611965</td>\n",
       "    </tr>\n",
       "    <tr>\n",
       "      <th>3</th>\n",
       "      <td>MaxHR</td>\n",
       "      <td>-0.343452</td>\n",
       "    </tr>\n",
       "    <tr>\n",
       "      <th>13</th>\n",
       "      <td>ST_Slope_Flat</td>\n",
       "      <td>0.279232</td>\n",
       "    </tr>\n",
       "    <tr>\n",
       "      <th>4</th>\n",
       "      <td>Oldpeak</td>\n",
       "      <td>0.213478</td>\n",
       "    </tr>\n",
       "    <tr>\n",
       "      <th>2</th>\n",
       "      <td>Cholesterol</td>\n",
       "      <td>0.000000</td>\n",
       "    </tr>\n",
       "    <tr>\n",
       "      <th>0</th>\n",
       "      <td>Age</td>\n",
       "      <td>0.000000</td>\n",
       "    </tr>\n",
       "    <tr>\n",
       "      <th>1</th>\n",
       "      <td>RestingBP</td>\n",
       "      <td>0.000000</td>\n",
       "    </tr>\n",
       "    <tr>\n",
       "      <th>8</th>\n",
       "      <td>ChestPainType_TA</td>\n",
       "      <td>0.000000</td>\n",
       "    </tr>\n",
       "    <tr>\n",
       "      <th>10</th>\n",
       "      <td>RestingECG_Normal</td>\n",
       "      <td>0.000000</td>\n",
       "    </tr>\n",
       "    <tr>\n",
       "      <th>11</th>\n",
       "      <td>RestingECG_ST</td>\n",
       "      <td>0.000000</td>\n",
       "    </tr>\n",
       "  </tbody>\n",
       "</table>\n",
       "</div>"
      ],
      "text/plain": [
       "              feature      coef\n",
       "14        ST_Slope_Up -1.378219\n",
       "7   ChestPainType_NAP -0.785669\n",
       "6   ChestPainType_ATA -0.780950\n",
       "5               Sex_M  0.764544\n",
       "12   ExerciseAngina_Y  0.754404\n",
       "9         FastingBS_1  0.611965\n",
       "3               MaxHR -0.343452\n",
       "13      ST_Slope_Flat  0.279232\n",
       "4             Oldpeak  0.213478\n",
       "2         Cholesterol  0.000000\n",
       "0                 Age  0.000000\n",
       "1           RestingBP  0.000000\n",
       "8    ChestPainType_TA  0.000000\n",
       "10  RestingECG_Normal  0.000000\n",
       "11      RestingECG_ST  0.000000"
      ]
     },
     "execution_count": 33,
     "metadata": {},
     "output_type": "execute_result"
    }
   ],
   "source": [
    "pd.DataFrame({\n",
    "    'feature': X_test.columns,\n",
    "    'coef':    best_model.coef_[0]\n",
    "}).sort_values(by='coef', key=abs, ascending=False)"
   ]
  },
  {
   "cell_type": "markdown",
   "id": "fb71a7ed-5a8c-4026-a995-94d92f915855",
   "metadata": {},
   "source": [
    "Por lo tanto, se observa que:\n",
    "- Una pendiente ST ascendente se asocia a un menor riesgo de enfermedad cardíaca.\n",
    "- Cuando los dolores son `NAP` (Dolor no anginal) o `ATA` (Angina atípica), el riesgo es menor respecto a los otros tipos de dolores.\n",
    "- El riesgo de enfermedad cardíaca parece ser mayor en **hombres**.\n",
    "- Un nivel alto de **azúcar en sangre en ayunas** incrementa el riesgo de enfermedad cardíaca."
   ]
  },
  {
   "cell_type": "markdown",
   "id": "daa079ed-51fb-4724-af64-df6a9030fd58",
   "metadata": {},
   "source": [
    "En conclusión, se construyó un **baseline de regresión logística** para la predicción de enfermedad cardíaca usando todos los atributos del set de datos. Mediante un **RandomizedSearchCV** con 5-folds estratificados, se obtuvo un modelo resultante, cuya evaluación determinó los siguientes valores:\n",
    "- **Accuracy:** 0.9252.\n",
    "- **ROC-AUC:** 0.9620.\n",
    "- **Precisión y recall por clase:**\n",
    "  - Clase \"No Enfermo\" (0): 0.9231 y 0.9091 respectivamente.\n",
    "  - Clase \"Enfermo\" (1): 0.9268 y 0.9383 respectivamente.\n",
    "\n",
    "Evaluando los coeficientes del modelo, se observó la **importancia de los features**, y se comentó acerca de sus resultados."
   ]
  }
 ],
 "metadata": {
  "kernelspec": {
   "display_name": "Python 3 (ipykernel)",
   "language": "python",
   "name": "python3"
  },
  "language_info": {
   "codemirror_mode": {
    "name": "ipython",
    "version": 3
   },
   "file_extension": ".py",
   "mimetype": "text/x-python",
   "name": "python",
   "nbconvert_exporter": "python",
   "pygments_lexer": "ipython3",
   "version": "3.10.16"
  }
 },
 "nbformat": 4,
 "nbformat_minor": 5
}
